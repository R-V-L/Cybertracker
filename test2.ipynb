{
 "cells": [
  {
   "cell_type": "code",
   "execution_count": 15,
   "metadata": {},
   "outputs": [
    {
     "name": "stdout",
     "output_type": "stream",
     "text": [
      "(1, 'wolo', '312313', 1312.43, 123123123.42, '2022-03-01T22:31:06.807651')\n",
      "(2, 'wolo', '312313', 1312.43, 123123123.42, '2022-03-01T22:32:26.173450')\n",
      "(3, 'wolo', '312313', 1312.43, 123123123.42, '2022-03-01T22:32:33.651741')\n",
      "(4, 'wolo', '312313', 1312.43, 123123123.42, '2022-03-01T22:35:05.780413')\n",
      "(5, 'wolo', '312313', 1312.43, 123123123.42, '2022-03-01T22:38:31.652387')\n",
      "(6, 'wolo', '312313', 1312.43, 123123123.42, '2022-03-01T22:38:33.607007')\n",
      "(7, 'wolo', '312313', 1312.43, 123123123.42, '2022-03-01T22:38:34.130542')\n",
      "(8, 'wolo', '312313', 1312.43, 123123123.42, '2022-03-01T22:38:34.572920')\n",
      "(9, 'wolo', '312313', 1312.43, 123123123.42, '2022-03-01T22:38:34.943117')\n",
      "(10, 'wolo', '312313', 1312.43, 123123123.42, '2022-03-01T23:08:25.981278')\n",
      "(11, 'wolo', '312313', 1312.43, 123123123.42, '2022-03-01T23:13:08.585802')\n",
      "(12, 'wolo', '312313', 1312.43, 123123123.42, '2022-03-01T23:14:29.454557')\n",
      "(13, 'wolo', '312313', 1312.43, 123123123.42, '2022-03-01T23:14:57.252735')\n",
      "(14, 'wolo', '312313', 1312.43, 123123123.42, '2022-03-01T23:15:40.737337')\n",
      "(15, 'wolo', '312313', 1312.43, 123123123.42, '2022-03-01T23:17:28.633746')\n",
      "(16, 'wolo', '312313', 1312.43, 123123123.42, '2022-03-03T21:28:54.480591')\n",
      "(17, 'wolo', '312313', 1312.43, 123123123.42, '2022/03/04 22:23:50')\n",
      "(18, 'wolo', '312313', 1312.43, 123123123.42, '2022-03-04 22:24:09')\n"
     ]
    }
   ],
   "source": [
    "import sqlite3\n",
    "from datetime import datetime\n",
    "\n",
    "db_path = r'./db/data.db'\n",
    "\n",
    "CREATE TABLE suppliers(\n",
    "    supplier_id   INTEGER PRIMARY KEY,\n",
    "    supplier_name TEXT    NOT NULL,\n",
    "    group_id      INTEGER NOT NULL,\n",
    "    FOREIGN KEY(group_id)\n",
    "    REFERENCES supplier_groups(group_id)\n",
    ")\n",
    "\n",
    "CREATE TABLE supplier_groups(\n",
    "\tgroup_id integer PRIMARY KEY,\n",
    "\tgroup_name text NOT NULL\n",
    ")\n",
    "\n",
    "def insertar_cyberpuerta(nombre, url, precio_normal, precio_oferta):  \n",
    "    fecha_actual = datetime.now().strftime(\"%Y-%m-%d %H:%M:%S\")\n",
    "    with sqlite3.connect(db_path) as conn:\n",
    "        cur = conn.cursor()\n",
    "        cur.execute('''CREATE TABLE IF NOT EXISTS PRODUCTOS\n",
    "               (PRO_ID INTEGER PRIMARY_KEY UNIQUE, \n",
    "               CYB_NOMBRE TEXT, CYB_URL TEXT, CYB_PRECIO_NORMAL REAL, \n",
    "               CYB_PRECIO_OFERTA REAL NULL, CYB_FECHA TEXT)''')\n",
    "        cyb_id = cur.execute(\"SELECT MAX(CYB_ID) FROM CYBERPUERTA\").fetchone()[0] + 1\n",
    "        cur.execute(\n",
    "            f\"INSERT INTO CYBERPUERTA VALUES ({cyb_id}, '{nombre}', '{url}', {precio_normal}, {precio_oferta}, '{fecha_actual}')\")\n",
    "        for row in cur.execute('SELECT * FROM CYBERPUERTA').fetchall():\n",
    "            print(row)\n",
    "\n",
    "insertar_cyberpuerta(\"wolo\", \"312313\", 1312.43, 123123123.42)"
   ]
  }
 ],
 "metadata": {
  "interpreter": {
   "hash": "31f2aee4e71d21fbe5cf8b01ff0e069b9275f58929596ceb00d14d90e3e16cd6"
  },
  "kernelspec": {
   "display_name": "Python 3.8.9 64-bit",
   "language": "python",
   "name": "python3"
  },
  "language_info": {
   "codemirror_mode": {
    "name": "ipython",
    "version": 3
   },
   "file_extension": ".py",
   "mimetype": "text/x-python",
   "name": "python",
   "nbconvert_exporter": "python",
   "pygments_lexer": "ipython3",
   "version": "3.8.9"
  },
  "orig_nbformat": 4
 },
 "nbformat": 4,
 "nbformat_minor": 2
}
